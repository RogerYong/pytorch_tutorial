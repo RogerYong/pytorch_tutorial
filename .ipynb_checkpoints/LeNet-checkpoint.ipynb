{
 "cells": [
  {
   "cell_type": "markdown",
   "metadata": {},
   "source": [
    "# TRAINING A CLASSIFIER\n",
    "[Pytorch:60分钟深度学习系列教程之4 训练一个分类器（数据集CIFAR-10）](https://pytorch.org/tutorials/beginner/blitz/cifar10_tutorial.html)"
   ]
  },
  {
   "cell_type": "code",
   "execution_count": 1,
   "metadata": {},
   "outputs": [],
   "source": [
    "import torch\n",
    "import torch.nn as nn\n",
    "import torch.nn.functional as F\n",
    "import torch.optim as optim\n",
    "import torchvision\n",
    "import torchvision.transforms as transforms\n",
    "\n",
    "import matplotlib.pyplot as plt\n",
    "import numpy as np\n",
    "import time\n",
    "import traceback"
   ]
  },
  {
   "cell_type": "markdown",
   "metadata": {},
   "source": [
    "数据一般加载到numpy中再转换为Tensor\n",
    "\n",
    "* For images, packages such as Pillow, OpenCV are useful\n",
    "* For audio, packages such as scipy and librosa\n",
    "* For text, either raw Python or Cython based loading, or NLTK and SpaCy are useful"
   ]
  },
  {
   "cell_type": "markdown",
   "metadata": {},
   "source": [
    "对于计算机视觉, torch 有个包 torchvision.可以方便地加载通用据集, 如 ImageNet, CIFAR10, MNIST等."
   ]
  },
  {
   "cell_type": "markdown",
   "metadata": {},
   "source": [
    "# Classifier"
   ]
  },
  {
   "cell_type": "markdown",
   "metadata": {},
   "source": [
    "## 加载数据集"
   ]
  },
  {
   "cell_type": "code",
   "execution_count": 2,
   "metadata": {},
   "outputs": [
    {
     "name": "stdout",
     "output_type": "stream",
     "text": [
      "Files already downloaded and verified\n",
      "Files already downloaded and verified\n"
     ]
    }
   ],
   "source": [
    "transform = transforms.Compose([\n",
    "    transforms.ToTensor(),\n",
    "    transforms.Normalize((0.5, 0.5, 0.5), (0.5, 0.5, 0.5))\n",
    "])\n",
    "\n",
    "# 训练集\n",
    "trainset = torchvision.datasets.CIFAR10(root='./data',\n",
    "                                        train=True,\n",
    "                                        download=True,\n",
    "                                        transform=transform)\n",
    "\n",
    "# 数据加载器\n",
    "trainloader = torch.utils.data.DataLoader(\n",
    "    trainset, batch_size=4, shuffle=True,\n",
    "    num_workers=2)  # num_workers 2 个线程加载数据\n",
    "\n",
    "# 测试集\n",
    "testset = torchvision.datasets.CIFAR10(root='./data',\n",
    "                                       train=False,\n",
    "                                       download=True,\n",
    "                                       transform=transform)\n",
    "\n",
    "testloader = torch.utils.data.DataLoader(testset,\n",
    "                                         batch_size=4,\n",
    "                                         shuffle=False,\n",
    "                                         num_workers=2)\n",
    "classes = ('plane', 'car', 'bird', 'cat', 'deer', 'dog', 'frog', 'horse',\n",
    "           'ship', 'truck')"
   ]
  },
  {
   "cell_type": "code",
   "execution_count": 3,
   "metadata": {},
   "outputs": [
    {
     "data": {
      "image/png": "[encoded data removed]",
      "text/plain": [
       "<Figure size 432x288 with 1 Axes>"
      ]
     },
     "metadata": {
      "needs_background": "light"
     },
     "output_type": "display_data"
    },
    {
     "name": "stdout",
     "output_type": "stream",
     "text": [
      " deer  ship   dog horse\n"
     ]
    }
   ],
   "source": [
    "def imshow(img):\n",
    "    img = img / 2 + 0.5  # unnormalize\n",
    "    npimg = img.numpy()\n",
    "    plt.imshow(np.transpose(npimg, (1, 2, 0)))\n",
    "    # 原来 3 * (24*mini_batch_size) *(24*mini_batch_size), 把维度 换成 (24*mini_batch_size) * (24*mini_batch_size * 3)\n",
    "    plt.show()\n",
    "\n",
    "\n",
    "# 随机获取一些数据\n",
    "dataiter = iter(trainloader)\n",
    "images, labels = dataiter.next()\n",
    "\n",
    "imshow(torchvision.utils.make_grid(images))  #多张图拼成一张图\n",
    "\n",
    "print(' '.join('%5s' % classes[labels[j]] for j in range(4)))"
   ]
  },
  {
   "cell_type": "markdown",
   "metadata": {},
   "source": [
    "## CNN"
   ]
  },
  {
   "cell_type": "code",
   "execution_count": 4,
   "metadata": {},
   "outputs": [],
   "source": [
    "class LeNet_5(nn.Module):\n",
    "    def __init__(self):\n",
    "        super(LeNet_5, self).__init__()\n",
    "        self.conv1 = nn.Conv2d(3, 6, 5)  # 5x5\n",
    "        self.conv2 = nn.Conv2d(6, 16, 5)  # 5x5\n",
    "\n",
    "        self.fc1 = nn.Linear(16 * 5 * 5, 120)\n",
    "        self.fc2 = nn.Linear(120, 84)\n",
    "        self.fc3 = nn.Linear(84, 10)\n",
    "\n",
    "    def forward(self, x):\n",
    "\n",
    "        x = F.max_pool2d(F.relu(self.conv1(x)), (2, 2))\n",
    "\n",
    "        x = F.max_pool2d(F.relu(self.conv2(x)), 2)\n",
    "        \n",
    "#         x = x.view(-1, self.num_flat_features(x))\n",
    "        # hard code\n",
    "        x = x.view(-1,400) #16 * 5 * 5\n",
    "\n",
    "        x = F.relu(self.fc1(x))\n",
    "        x = F.relu(self.fc2(x))\n",
    "        x = self.fc3(x)  # 最后一个不用激活？计算10个分类的可能性\n",
    "        return x\n",
    "\n",
    "    def num_flat_features(self, x):\n",
    "        '''\n",
    "        对于不固定的输入,可以使用这个函数, 这里的输入是固定的,直接hard code\n",
    "        '''\n",
    "        with torch.no_grad():\n",
    "            size = x.size()[1:]  # 第0维是batch size，后面是特征维度\n",
    "            num_features = 1\n",
    "            for s in size:\n",
    "                num_features *= s\n",
    "            return num_features\n",
    "\n",
    "           \n",
    "class LeNet_3(nn.Module):\n",
    "    def __init__(self):\n",
    "        super(LeNet_3, self).__init__()\n",
    "        self.conv1 = nn.Conv2d(3, 6, 3)  # 3x3\n",
    "        self.conv2 = nn.Conv2d(6, 16, 3)  # 3x3\n",
    "\n",
    "        self.fc1 = nn.Linear(16 * 6 * 6, 120)\n",
    "        self.fc2 = nn.Linear(120, 84)\n",
    "        self.fc3 = nn.Linear(84, 10)\n",
    "\n",
    "    def forward(self, x):\n",
    "\n",
    "        x = F.max_pool2d(F.relu(self.conv1(x)), (2, 2))\n",
    "        # max pool 2 2x2\n",
    "        x = F.max_pool2d(F.relu(self.conv2(x)), 2)\n",
    "\n",
    "        # 二维矩阵 转 向量\n",
    "#         x = x.view(-1, self.num_flat_features(x))\n",
    "        x = x.view(-1,576) #16 * 6 * 6\n",
    "\n",
    "        x = F.relu(self.fc1(x))\n",
    "        x = F.relu(self.fc2(x))\n",
    "        x = self.fc3(x)  # 最后一个不用激活？计算10个分类的可能性\n",
    "        return x\n",
    "\n",
    "    def num_flat_features(self, x):\n",
    "        '''\n",
    "        对于不固定的输入,可以使用这个函数, 这里的输入是固定的,直接hard code\n",
    "        '''\n",
    "        with torch.no_grad():\n",
    "            size = x.size()[1:]  # 第0维是batch size，后面是特征维度\n",
    "            num_features = 1\n",
    "            for s in size:\n",
    "                num_features *= s\n",
    "            return num_features"
   ]
  },
  {
   "cell_type": "code",
   "execution_count": 5,
   "metadata": {},
   "outputs": [],
   "source": [
    "class LeNet(nn.Module):\n",
    "    def __init__(self,size=3,optimizer=None):\n",
    "        '''\n",
    "        size 卷积核大小\n",
    "        '''\n",
    "        super(LeNet, self).__init__()\n",
    "        if size != 3 and size !=5:\n",
    "            print(\"Warning! size:{}. set to 3\".format(size))\n",
    "            sise = 3\n",
    "        \n",
    "        self.size=size\n",
    "        \n",
    "        self.conv1 = nn.Conv2d(3, 6, size)  # 3x3\n",
    "        self.conv2 = nn.Conv2d(6, 16, size)  # 3x3\n",
    "\n",
    "        if size == 3:\n",
    "            self.fc1 = nn.Linear(16 * 6 * 6, 120)\n",
    "        else:\n",
    "            # 5\n",
    "            self.fc1 = nn.Linear(16 * 5 * 5, 120)\n",
    "            \n",
    "        self.fc2 = nn.Linear(120, 84)\n",
    "        self.fc3 = nn.Linear(84, 10)\n",
    "        \n",
    "        # GPU\n",
    "        self.device = torch.device(\"cuda:0\" if torch.cuda.is_available() else \"cpu\")\n",
    "        self.to(self.device)\n",
    "        \n",
    "        # 损失函数 与 优化器\n",
    "        self.criterion = nn.CrossEntropyLoss()  # 交叉熵\n",
    "        \n",
    "        if optimizer == None:\n",
    "            self.optimizer = optim.SGD(self.parameters(), lr=0.001, momentum=0.9)\n",
    "        else:\n",
    "            self.optimizer = optimizer\n",
    "\n",
    "    def forward(self, x):\n",
    "\n",
    "        x = F.max_pool2d(F.relu(self.conv1(x)), (2, 2))\n",
    "        # max pool 2 2x2\n",
    "        x = F.max_pool2d(F.relu(self.conv2(x)), 2)\n",
    "\n",
    "        # 二维矩阵 转 向量\n",
    "        if self.size == 3:\n",
    "            x = x.view(-1, 576)\n",
    "        else:\n",
    "            x = x.view(-1, 400)\n",
    "        # x = x.view(-1, self.num_flat_features(x))\n",
    "            \n",
    "        \n",
    "        x = F.relu(self.fc1(x))\n",
    "        x = F.relu(self.fc2(x))\n",
    "        x = self.fc3(x) \n",
    "        return x\n",
    "\n",
    "    def num_flat_features(self, x):\n",
    "        '''\n",
    "        对于不固定的输入,可以使用这个函数, 这里的输入是固定的,直接hard code\n",
    "        '''\n",
    "        with torch.no_grad():\n",
    "            size = x.size()[1:]  # 第0维是batch size，后面是特征维度\n",
    "            num_features = 1\n",
    "            for s in size:\n",
    "                num_features *= s\n",
    "            return num_features\n",
    "        \n",
    "    def batch_train(self,x,y):\n",
    "        inputs, labels = x.to(self.device), y.to(self.device)\n",
    "    \n",
    "        self.optimizer.zero_grad()\n",
    "        outputs = self.forward(inputs) # self(inputs)??\n",
    "\n",
    "        loss = self.criterion(outputs, labels)  # 最后得到一个标量,loss\n",
    "        loss.backward()\n",
    "\n",
    "        self.optimizer.step()  # 这里更新了参数\n",
    "\n",
    "        return outputs,loss\n",
    "    \n",
    "    \n",
    "    def test(self,x):\n",
    "        inputs = x.to(self.device)\n",
    "        with torch.no_grad():\n",
    "            outputs = self.forward(inputs) # self(inputs)??\n",
    "            return outputs\n",
    "        \n",
    "    def dataset_test(self, testloader):\n",
    "        correct = 0\n",
    "        total = 0\n",
    "        accuracy = 0.0\n",
    "        with torch.no_grad():\n",
    "            for data in testloader:\n",
    "                images, labels = data[0].to(self.device),data[1].to(self.device)\n",
    "                outputs = self.test(images)\n",
    "                _, predicted = torch.max(outputs.data, 1)\n",
    "                total += labels.size(0)\n",
    "                correct += (predicted == labels).sum().item()    \n",
    "        accuracy = 100 * correct / total\n",
    "        return correct, total, accuracy"
   ]
  },
  {
   "cell_type": "code",
   "execution_count": 6,
   "metadata": {},
   "outputs": [
    {
     "name": "stdout",
     "output_type": "stream",
     "text": [
      "[1,  2000] loss LeNet3: 2.173\n",
      "[1,  4000] loss LeNet3: 1.850\n",
      "[1,  6000] loss LeNet3: 1.693\n",
      "[1,  8000] loss LeNet3: 1.539\n",
      "[1, 10000] loss LeNet3: 1.452\n",
      "[1, 12000] loss LeNet3: 1.409\n",
      "[2,  2000] loss LeNet3: 1.346\n",
      "[2,  4000] loss LeNet3: 1.301\n",
      "[2,  6000] loss LeNet3: 1.281\n",
      "[2,  8000] loss LeNet3: 1.274\n",
      "[2, 10000] loss LeNet3: 1.230\n",
      "[2, 12000] loss LeNet3: 1.215\n",
      "[3,  2000] loss LeNet3: 1.130\n",
      "[3,  4000] loss LeNet3: 1.148\n",
      "[3,  6000] loss LeNet3: 1.129\n",
      "[3,  8000] loss LeNet3: 1.149\n",
      "[3, 10000] loss LeNet3: 1.123\n",
      "[3, 12000] loss LeNet3: 1.117\n",
      "Finished Training\n"
     ]
    }
   ],
   "source": [
    "ln3 = LeNet(3)\n",
    "for epoch in range(10):  # 数据集的循环次数\n",
    "\n",
    "    running_loss3 = 0.0  # 运行时的损失的值(2000次loss的均值),记录损失的下降趋势\n",
    "    for i, data in enumerate(trainloader, 0):  # enumerate(sequence, [start=0])\n",
    "\n",
    "        inputs, labels = data\n",
    "        \n",
    "        outputs3,loss3 = ln3.batch_train(inputs,labels)\n",
    "        running_loss3 += loss3.item() \n",
    "    \n",
    "        # log statistics\n",
    "        if i % 2000 == 1999:\n",
    "            print('[%d, %5d] loss LeNet3: %.3f' %(epoch + 1, i + 1, running_loss3 / 2000))\n",
    "            running_loss3 = 0.0\n",
    "\n",
    "print('Finished Training')"
   ]
  },
  {
   "cell_type": "code",
   "execution_count": 7,
   "metadata": {},
   "outputs": [
    {
     "name": "stdout",
     "output_type": "stream",
     "text": [
      "Accuracy of the LeNet-3 on the 10000 test images: 59 %\n"
     ]
    }
   ],
   "source": [
    "correct3, total3, acc3 = ln3.dataset_test(testloader)\n",
    "print('Accuracy of the LeNet-3 on the 10000 test images: %d %%' % acc3)"
   ]
  },
  {
   "cell_type": "code",
   "execution_count": 9,
   "metadata": {
    "scrolled": false
   },
   "outputs": [
    {
     "ename": "RuntimeError",
     "evalue": "shape '[-1, 576]' is invalid for input of size 1600",
     "output_type": "error",
     "traceback": [
      "\u001b[0;31m---------------------------------------------------------------------------\u001b[0m",
      "\u001b[0;31mRuntimeError\u001b[0m                              Traceback (most recent call last)",
      "\u001b[0;32m<ipython-input-9-76714f13a756>\u001b[0m in \u001b[0;36m<module>\u001b[0;34m\u001b[0m\n\u001b[1;32m      7\u001b[0m         \u001b[0minputs\u001b[0m\u001b[0;34m,\u001b[0m \u001b[0mlabels\u001b[0m \u001b[0;34m=\u001b[0m \u001b[0mdata\u001b[0m\u001b[0;34m\u001b[0m\u001b[0m\n\u001b[1;32m      8\u001b[0m \u001b[0;34m\u001b[0m\u001b[0m\n\u001b[0;32m----> 9\u001b[0;31m         \u001b[0moutputs5\u001b[0m\u001b[0;34m,\u001b[0m\u001b[0mloss5\u001b[0m \u001b[0;34m=\u001b[0m \u001b[0mln5\u001b[0m\u001b[0;34m.\u001b[0m\u001b[0mbatch_train\u001b[0m\u001b[0;34m(\u001b[0m\u001b[0minputs\u001b[0m\u001b[0;34m,\u001b[0m\u001b[0mlabels\u001b[0m\u001b[0;34m)\u001b[0m\u001b[0;34m\u001b[0m\u001b[0m\n\u001b[0m\u001b[1;32m     10\u001b[0m         \u001b[0mrunning_loss5\u001b[0m \u001b[0;34m+=\u001b[0m \u001b[0mloss5\u001b[0m\u001b[0;34m.\u001b[0m\u001b[0mitem\u001b[0m\u001b[0;34m(\u001b[0m\u001b[0;34m)\u001b[0m\u001b[0;34m\u001b[0m\u001b[0m\n\u001b[1;32m     11\u001b[0m \u001b[0;34m\u001b[0m\u001b[0m\n",
      "\u001b[0;32m<ipython-input-5-31c5da3065c4>\u001b[0m in \u001b[0;36mbatch_train\u001b[0;34m(self, x, y)\u001b[0m\n\u001b[1;32m     69\u001b[0m \u001b[0;34m\u001b[0m\u001b[0m\n\u001b[1;32m     70\u001b[0m         \u001b[0mself\u001b[0m\u001b[0;34m.\u001b[0m\u001b[0moptimizer\u001b[0m\u001b[0;34m.\u001b[0m\u001b[0mzero_grad\u001b[0m\u001b[0;34m(\u001b[0m\u001b[0;34m)\u001b[0m\u001b[0;34m\u001b[0m\u001b[0m\n\u001b[0;32m---> 71\u001b[0;31m         \u001b[0moutputs\u001b[0m \u001b[0;34m=\u001b[0m \u001b[0mself\u001b[0m\u001b[0;34m.\u001b[0m\u001b[0mforward\u001b[0m\u001b[0;34m(\u001b[0m\u001b[0minputs\u001b[0m\u001b[0;34m)\u001b[0m \u001b[0;31m# self(inputs)??\u001b[0m\u001b[0;34m\u001b[0m\u001b[0m\n\u001b[0m\u001b[1;32m     72\u001b[0m \u001b[0;34m\u001b[0m\u001b[0m\n\u001b[1;32m     73\u001b[0m         \u001b[0mloss\u001b[0m \u001b[0;34m=\u001b[0m \u001b[0mself\u001b[0m\u001b[0;34m.\u001b[0m\u001b[0mcriterion\u001b[0m\u001b[0;34m(\u001b[0m\u001b[0moutputs\u001b[0m\u001b[0;34m,\u001b[0m \u001b[0mlabels\u001b[0m\u001b[0;34m)\u001b[0m  \u001b[0;31m# 最后得到一个标量,loss\u001b[0m\u001b[0;34m\u001b[0m\u001b[0m\n",
      "\u001b[0;32m<ipython-input-5-31c5da3065c4>\u001b[0m in \u001b[0;36mforward\u001b[0;34m(self, x)\u001b[0m\n\u001b[1;32m     43\u001b[0m         \u001b[0;31m# 二维矩阵 转 向量\u001b[0m\u001b[0;34m\u001b[0m\u001b[0;34m\u001b[0m\u001b[0m\n\u001b[1;32m     44\u001b[0m         \u001b[0;32mif\u001b[0m \u001b[0mself\u001b[0m\u001b[0;34m.\u001b[0m\u001b[0msize\u001b[0m \u001b[0;34m==\u001b[0m \u001b[0;36m3\u001b[0m\u001b[0;34m:\u001b[0m\u001b[0;34m\u001b[0m\u001b[0m\n\u001b[0;32m---> 45\u001b[0;31m             \u001b[0mx\u001b[0m \u001b[0;34m=\u001b[0m \u001b[0mx\u001b[0m\u001b[0;34m.\u001b[0m\u001b[0mview\u001b[0m\u001b[0;34m(\u001b[0m\u001b[0;34m-\u001b[0m\u001b[0;36m1\u001b[0m\u001b[0;34m,\u001b[0m \u001b[0;36m576\u001b[0m\u001b[0;34m)\u001b[0m\u001b[0;34m\u001b[0m\u001b[0m\n\u001b[0m\u001b[1;32m     46\u001b[0m         \u001b[0;32melse\u001b[0m\u001b[0;34m:\u001b[0m\u001b[0;34m\u001b[0m\u001b[0m\n\u001b[1;32m     47\u001b[0m             \u001b[0mx\u001b[0m \u001b[0;34m=\u001b[0m \u001b[0mx\u001b[0m\u001b[0;34m.\u001b[0m\u001b[0mview\u001b[0m\u001b[0;34m(\u001b[0m\u001b[0;34m-\u001b[0m\u001b[0;36m1\u001b[0m\u001b[0;34m,\u001b[0m \u001b[0;36m400\u001b[0m\u001b[0;34m)\u001b[0m\u001b[0;34m\u001b[0m\u001b[0m\n",
      "\u001b[0;31mRuntimeError\u001b[0m: shape '[-1, 576]' is invalid for input of size 1600"
     ]
    }
   ],
   "source": [
    "ln5 = LeNet(5)\n",
    "for epoch in range(10):  # 数据集的循环次数\n",
    "\n",
    "    running_loss5 = 0.0\n",
    "    for i, data in enumerate(trainloader, 0):  # enumerate(sequence, [start=0])\n",
    "\n",
    "        inputs, labels = data\n",
    "        \n",
    "        outputs5,loss5 = ln5.batch_train(inputs,labels)\n",
    "        running_loss5 += loss5.item()\n",
    "\n",
    "        # log statistics\n",
    "        if i % 2000 == 1999:\n",
    "            print('[%d, %5d] loss LeNet5: %.3f' %(epoch + 1, i + 1, running_loss5 / 2000))\n",
    "            running_loss5 = 0.0\n",
    "\n",
    "print('Finished Training')"
   ]
  },
  {
   "cell_type": "code",
   "execution_count": null,
   "metadata": {},
   "outputs": [],
   "source": [
    "correct5 ,total5 ,acc5 = ln5.dataset_test(testloader)\n",
    "print('Accuracy of the LeNet-5 on the 10000 test images: %d %%' % acc5)"
   ]
  }
 ],
 "metadata": {
  "kernelspec": {
   "display_name": "Python 3",
   "language": "python",
   "name": "python3"
  },
  "language_info": {
   "codemirror_mode": {
    "name": "ipython",
    "version": 3
   },
   "file_extension": ".py",
   "mimetype": "text/x-python",
   "name": "python",
   "nbconvert_exporter": "python",
   "pygments_lexer": "ipython3",
   "version": "3.6.2"
  },
  "latex_envs": {
   "LaTeX_envs_menu_present": true,
   "autoclose": false,
   "autocomplete": true,
   "bibliofile": "biblio.bib",
   "cite_by": "apalike",
   "current_citInitial": 1,
   "eqLabelWithNumbers": true,
   "eqNumInitial": 1,
   "hotkeys": {
    "equation": "Ctrl-E",
    "itemize": "Ctrl-I"
   },
   "labels_anchors": false,
   "latex_user_defs": false,
   "report_style_numbering": false,
   "user_envs_cfg": false
  }
 },
 "nbformat": 4,
 "nbformat_minor": 2
}
