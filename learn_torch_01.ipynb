{
 "cells": [
  {
   "cell_type": "markdown",
   "metadata": {},
   "source": [
    "[torch教程](https://pytorch.org/tutorials/beginner/blitz/tensor_tutorial.html#sphx-glr-beginner-blitz-tensor-tutorial-py)"
   ]
  },
  {
   "cell_type": "code",
   "execution_count": 1,
   "metadata": {},
   "outputs": [],
   "source": [
    "import torch\n",
    "import numpy\n",
    "import time\n",
    "import traceback"
   ]
  },
  {
   "cell_type": "markdown",
   "metadata": {},
   "source": [
    "# Torch 的Tensor 和 numpy的ndarray"
   ]
  },
  {
   "cell_type": "code",
   "execution_count": 2,
   "metadata": {},
   "outputs": [
    {
     "name": "stdout",
     "output_type": "stream",
     "text": [
      "tensor([[-6.3301e-29,  4.5859e-41, -6.3301e-29],\n",
      "        [ 4.5859e-41, -3.2695e-31,  4.5859e-41],\n",
      "        [-8.9430e-29,  4.5859e-41,  1.4013e-45],\n",
      "        [ 4.5859e-41,  0.0000e+00,  0.0000e+00],\n",
      "        [-4.2005e-34,  4.5859e-41,  0.0000e+00]])\n",
      "<class 'torch.Tensor'>\n",
      "torch.float32\n"
     ]
    }
   ],
   "source": [
    "x = torch.empty(5,3) # 随机的\n",
    "print(x)\n",
    "print(type(x))\n",
    "print(x.dtype)"
   ]
  },
  {
   "cell_type": "code",
   "execution_count": 3,
   "metadata": {},
   "outputs": [
    {
     "name": "stdout",
     "output_type": "stream",
     "text": [
      "tensor([[0.2785, 0.4914, 0.2182],\n",
      "        [0.4193, 0.6737, 0.9005],\n",
      "        [0.1870, 0.2050, 0.8922],\n",
      "        [0.5459, 0.1261, 0.9976],\n",
      "        [0.5137, 0.2134, 0.1131]])\n",
      "torch.float32\n"
     ]
    }
   ],
   "source": [
    "x = torch.rand(5,3)\n",
    "print(x)\n",
    "print(x.dtype)"
   ]
  },
  {
   "cell_type": "code",
   "execution_count": 4,
   "metadata": {},
   "outputs": [
    {
     "name": "stdout",
     "output_type": "stream",
     "text": [
      "tensor([[0, 0, 0],\n",
      "        [0, 0, 0],\n",
      "        [0, 0, 0],\n",
      "        [0, 0, 0],\n",
      "        [0, 0, 0]])\n",
      "torch.int64\n"
     ]
    }
   ],
   "source": [
    "x = torch.zeros(5,3, dtype= torch.long)\n",
    "print(x)\n",
    "print(x.dtype)"
   ]
  },
  {
   "cell_type": "code",
   "execution_count": 5,
   "metadata": {},
   "outputs": [
    {
     "name": "stdout",
     "output_type": "stream",
     "text": [
      "tensor([5.5000, 3.0000])\n",
      "torch.float32\n"
     ]
    }
   ],
   "source": [
    "x = torch.tensor([5.5,3])\n",
    "print(x)\n",
    "print(x.dtype)"
   ]
  },
  {
   "cell_type": "code",
   "execution_count": 6,
   "metadata": {},
   "outputs": [
    {
     "name": "stdout",
     "output_type": "stream",
     "text": [
      "tensor([[1., 1., 1.],\n",
      "        [1., 1., 1.],\n",
      "        [1., 1., 1.],\n",
      "        [1., 1., 1.],\n",
      "        [1., 1., 1.]], dtype=torch.float64)\n"
     ]
    }
   ],
   "source": [
    "x = x.new_ones(5, 3, dtype=torch.double)      # new_* methods take in sizes\n",
    "print(x)"
   ]
  },
  {
   "cell_type": "markdown",
   "metadata": {},
   "source": [
    "like 形状"
   ]
  },
  {
   "cell_type": "code",
   "execution_count": 7,
   "metadata": {},
   "outputs": [
    {
     "name": "stdout",
     "output_type": "stream",
     "text": [
      "tensor([[-0.2161, -0.8386, -1.5547],\n",
      "        [-0.9105,  0.2367, -0.8144],\n",
      "        [-0.2852,  0.0639,  2.9036],\n",
      "        [ 0.6656, -0.0172, -0.3629],\n",
      "        [-0.4799,  1.2853, -1.7308]])\n"
     ]
    }
   ],
   "source": [
    "x = torch.randn_like(x, dtype=torch.float)    # override dtype!\n",
    "print(x)    "
   ]
  },
  {
   "cell_type": "code",
   "execution_count": 8,
   "metadata": {},
   "outputs": [
    {
     "name": "stdout",
     "output_type": "stream",
     "text": [
      "torch.Size([5, 3])\n",
      "torch.Size([5, 3])\n"
     ]
    }
   ],
   "source": [
    "print(x.size())\n",
    "print(x.shape)"
   ]
  },
  {
   "cell_type": "markdown",
   "metadata": {},
   "source": [
    "# 运算"
   ]
  },
  {
   "cell_type": "code",
   "execution_count": 9,
   "metadata": {},
   "outputs": [
    {
     "name": "stdout",
     "output_type": "stream",
     "text": [
      "tensor([[0.5089, 0.3141, 0.0311],\n",
      "        [0.3043, 0.7370, 0.6449],\n",
      "        [0.9519, 0.9082, 0.2803],\n",
      "        [0.2429, 0.3405, 0.1069],\n",
      "        [0.0584, 0.5520, 0.6156]])\n"
     ]
    }
   ],
   "source": [
    "y = torch.rand(5,3)\n",
    "print(y)"
   ]
  },
  {
   "cell_type": "code",
   "execution_count": 10,
   "metadata": {},
   "outputs": [
    {
     "data": {
      "text/plain": [
       "tensor([[0.5089, 0.3141, 0.0311],\n",
       "        [0.3043, 0.7370, 0.6449],\n",
       "        [0.9519, 0.9082, 0.2803],\n",
       "        [0.2429, 0.3405, 0.1069],\n",
       "        [0.0584, 0.5520, 0.6156]])"
      ]
     },
     "execution_count": 10,
     "metadata": {},
     "output_type": "execute_result"
    }
   ],
   "source": [
    "y"
   ]
  },
  {
   "cell_type": "code",
   "execution_count": 11,
   "metadata": {},
   "outputs": [
    {
     "name": "stdout",
     "output_type": "stream",
     "text": [
      "tensor([[ 0.2928, -0.5245, -1.5237],\n",
      "        [-0.6062,  0.9736, -0.1695],\n",
      "        [ 0.6667,  0.9721,  3.1840],\n",
      "        [ 0.9085,  0.3232, -0.2560],\n",
      "        [-0.4215,  1.8373, -1.1151]])\n"
     ]
    }
   ],
   "source": [
    "print(x+y)"
   ]
  },
  {
   "cell_type": "code",
   "execution_count": 12,
   "metadata": {},
   "outputs": [
    {
     "name": "stdout",
     "output_type": "stream",
     "text": [
      "tensor([[ 0.2928, -0.5245, -1.5237],\n",
      "        [-0.6062,  0.9736, -0.1695],\n",
      "        [ 0.6667,  0.9721,  3.1840],\n",
      "        [ 0.9085,  0.3232, -0.2560],\n",
      "        [-0.4215,  1.8373, -1.1151]])\n"
     ]
    }
   ],
   "source": [
    "print(torch.add(x,y))"
   ]
  },
  {
   "cell_type": "code",
   "execution_count": 13,
   "metadata": {},
   "outputs": [
    {
     "name": "stdout",
     "output_type": "stream",
     "text": [
      "tensor([[ 0.2928, -0.5245, -1.5237],\n",
      "        [-0.6062,  0.9736, -0.1695],\n",
      "        [ 0.6667,  0.9721,  3.1840],\n",
      "        [ 0.9085,  0.3232, -0.2560],\n",
      "        [-0.4215,  1.8373, -1.1151]])\n"
     ]
    }
   ],
   "source": [
    "result = torch.empty(5,3)\n",
    "torch.add(x,y,out=result)\n",
    "print(result)"
   ]
  },
  {
   "cell_type": "code",
   "execution_count": 14,
   "metadata": {},
   "outputs": [
    {
     "name": "stdout",
     "output_type": "stream",
     "text": [
      "tensor([[ 0.2928, -0.5245, -1.5237],\n",
      "        [-0.6062,  0.9736, -0.1695],\n",
      "        [ 0.6667,  0.9721,  3.1840],\n",
      "        [ 0.9085,  0.3232, -0.2560],\n",
      "        [-0.4215,  1.8373, -1.1151]])\n"
     ]
    }
   ],
   "source": [
    "# in-place \n",
    "print(y.add(x))"
   ]
  },
  {
   "cell_type": "code",
   "execution_count": 15,
   "metadata": {},
   "outputs": [],
   "source": [
    "# 名字以_结尾的方法会把结果保存在张量中，修改原来的值"
   ]
  },
  {
   "cell_type": "code",
   "execution_count": 16,
   "metadata": {},
   "outputs": [
    {
     "name": "stdout",
     "output_type": "stream",
     "text": [
      "tensor([[ 0.2928, -0.5245, -1.5237],\n",
      "        [-0.6062,  0.9736, -0.1695],\n",
      "        [ 0.6667,  0.9721,  3.1840],\n",
      "        [ 0.9085,  0.3232, -0.2560],\n",
      "        [-0.4215,  1.8373, -1.1151]])\n"
     ]
    }
   ],
   "source": [
    "y.add_(x) # 结果保存在y中\n",
    "print(y)"
   ]
  },
  {
   "cell_type": "markdown",
   "metadata": {},
   "source": [
    "# 索引"
   ]
  },
  {
   "cell_type": "code",
   "execution_count": 17,
   "metadata": {},
   "outputs": [
    {
     "name": "stdout",
     "output_type": "stream",
     "text": [
      "tensor([-0.8386,  0.2367,  0.0639, -0.0172,  1.2853])\n",
      "torch.Size([5])\n"
     ]
    }
   ],
   "source": [
    "print(x[:,1])\n",
    "print(x[:,1].shape)"
   ]
  },
  {
   "cell_type": "code",
   "execution_count": 18,
   "metadata": {},
   "outputs": [
    {
     "name": "stdout",
     "output_type": "stream",
     "text": [
      "tensor([[-0.6405, -0.5057, -0.9197,  0.4275],\n",
      "        [ 0.3439, -0.3983, -0.2468,  0.2744],\n",
      "        [ 1.1139,  0.0358,  0.8202,  0.4452],\n",
      "        [ 0.1648,  1.5729,  0.5856,  1.8340]])\n"
     ]
    }
   ],
   "source": [
    "x = torch.randn(4,4)\n",
    "print(x)"
   ]
  },
  {
   "cell_type": "markdown",
   "metadata": {},
   "source": [
    "### view函数, 改变形状, 是张量的一个引用. 在view这里改变数据,会影响原张量"
   ]
  },
  {
   "cell_type": "code",
   "execution_count": 19,
   "metadata": {},
   "outputs": [],
   "source": [
    "y = x.view(16)"
   ]
  },
  {
   "cell_type": "code",
   "execution_count": 20,
   "metadata": {},
   "outputs": [
    {
     "name": "stdout",
     "output_type": "stream",
     "text": [
      "tensor([-0.6405, -0.5057, -0.9197,  0.4275,  0.3439, -0.3983, -0.2468,  0.2744,\n",
      "         1.1139,  0.0358,  0.8202,  0.4452,  0.1648,  1.5729,  0.5856,  1.8340])\n"
     ]
    }
   ],
   "source": [
    "print(y)"
   ]
  },
  {
   "cell_type": "code",
   "execution_count": 21,
   "metadata": {},
   "outputs": [],
   "source": [
    "y[0] = 1"
   ]
  },
  {
   "cell_type": "code",
   "execution_count": 22,
   "metadata": {},
   "outputs": [
    {
     "name": "stdout",
     "output_type": "stream",
     "text": [
      "tensor([[ 1.0000, -0.5057, -0.9197,  0.4275],\n",
      "        [ 0.3439, -0.3983, -0.2468,  0.2744],\n",
      "        [ 1.1139,  0.0358,  0.8202,  0.4452],\n",
      "        [ 0.1648,  1.5729,  0.5856,  1.8340]])\n"
     ]
    }
   ],
   "source": [
    "print(x)"
   ]
  },
  {
   "cell_type": "code",
   "execution_count": 23,
   "metadata": {},
   "outputs": [
    {
     "name": "stdout",
     "output_type": "stream",
     "text": [
      "tensor([ 1.0000, -0.5057, -0.9197,  0.4275,  0.3439, -0.3983, -0.2468,  0.2744,\n",
      "         1.1139,  0.0358,  0.8202,  0.4452,  0.1648,  1.5729,  0.5856,  1.8340])\n"
     ]
    }
   ],
   "source": [
    "print(y)"
   ]
  },
  {
   "cell_type": "code",
   "execution_count": 24,
   "metadata": {},
   "outputs": [],
   "source": [
    "z = x.view(-1, 8) # -1 表示 从其他维度推断"
   ]
  },
  {
   "cell_type": "code",
   "execution_count": 25,
   "metadata": {},
   "outputs": [
    {
     "data": {
      "text/plain": [
       "torch.Size([2, 8])"
      ]
     },
     "execution_count": 25,
     "metadata": {},
     "output_type": "execute_result"
    }
   ],
   "source": [
    "z.shape"
   ]
  },
  {
   "cell_type": "code",
   "execution_count": 26,
   "metadata": {},
   "outputs": [
    {
     "name": "stderr",
     "output_type": "stream",
     "text": [
      "Traceback (most recent call last):\n",
      "  File \"<ipython-input-26-d3e1c76a8807>\", line 2, in <module>\n",
      "    x.item() # item用于单元素张量\n",
      "ValueError: only one element tensors can be converted to Python scalars\n"
     ]
    }
   ],
   "source": [
    "try:\n",
    "    x.item() # item用于单元素张量\n",
    "except Exception as  e:\n",
    "    traceback.print_exc()\n",
    " "
   ]
  },
  {
   "cell_type": "code",
   "execution_count": 27,
   "metadata": {},
   "outputs": [
    {
     "name": "stdout",
     "output_type": "stream",
     "text": [
      "tensor([1.0359])\n",
      "1.035888433456421\n"
     ]
    }
   ],
   "source": [
    "x = torch.randn(1)\n",
    "print(x)\n",
    "print(x.item())"
   ]
  },
  {
   "cell_type": "markdown",
   "metadata": {},
   "source": [
    "# Numpy Bridge\n",
    "\n",
    "和numpy互相转换"
   ]
  },
  {
   "cell_type": "code",
   "execution_count": 28,
   "metadata": {},
   "outputs": [
    {
     "name": "stdout",
     "output_type": "stream",
     "text": [
      "tensor([1., 1., 1., 1., 1.])\n",
      "torch.Size([5])\n",
      "5\n"
     ]
    }
   ],
   "source": [
    "a = torch.ones(5)\n",
    "print(a)\n",
    "print(a.shape)\n",
    "print(a.shape[0])"
   ]
  },
  {
   "cell_type": "code",
   "execution_count": 29,
   "metadata": {},
   "outputs": [
    {
     "name": "stdout",
     "output_type": "stream",
     "text": [
      "[1. 1. 1. 1. 1.]\n",
      "float32\n",
      "<class 'numpy.ndarray'>\n",
      "(5,)\n"
     ]
    }
   ],
   "source": [
    "b = a.numpy()\n",
    "print(b)\n",
    "print(b.dtype)\n",
    "print(type(b))\n",
    "print(b.shape)"
   ]
  },
  {
   "cell_type": "code",
   "execution_count": 30,
   "metadata": {},
   "outputs": [
    {
     "name": "stdout",
     "output_type": "stream",
     "text": [
      "tensor([1., 1., 1., 1., 1.])\n"
     ]
    }
   ],
   "source": [
    "c = a.clone() # clone\n",
    "print(c)"
   ]
  },
  {
   "cell_type": "code",
   "execution_count": 31,
   "metadata": {},
   "outputs": [
    {
     "name": "stdout",
     "output_type": "stream",
     "text": [
      "tensor([1., 1., 1., 1., 1.])\n"
     ]
    }
   ],
   "source": [
    "d = torch.Tensor(a.size()).copy_(a)  # 等同于clone \n",
    "print(d)"
   ]
  },
  {
   "cell_type": "code",
   "execution_count": 32,
   "metadata": {},
   "outputs": [
    {
     "name": "stdout",
     "output_type": "stream",
     "text": [
      "tensor([2., 2., 2., 2., 2.])\n",
      "[2. 2. 2. 2. 2.]\n",
      "tensor([1., 1., 1., 1., 1.])\n",
      "tensor([1., 1., 1., 1., 1.])\n"
     ]
    }
   ],
   "source": [
    "a.add_(1)\n",
    "print(a)\n",
    "print(b)  # b也是对a的引用\n",
    "print(c)\n",
    "print(d)"
   ]
  },
  {
   "cell_type": "markdown",
   "metadata": {},
   "source": [
    "# GPU cuda"
   ]
  },
  {
   "cell_type": "code",
   "execution_count": 33,
   "metadata": {},
   "outputs": [
    {
     "name": "stdout",
     "output_type": "stream",
     "text": [
      "gpu 数量:2\n",
      "gpu 0 : GeForce GTX 1080\n",
      "gpu 1 : GeForce GTX 1080\n",
      "current gpu id:0\n"
     ]
    }
   ],
   "source": [
    "if torch.cuda.is_available():\n",
    "    gpu_count = torch.cuda.device_count()\n",
    "    print(\"gpu 数量:{}\" .format(gpu_count))\n",
    "    for i in range(gpu_count):\n",
    "        print(\"gpu {} : {}\".format(i, torch.cuda.get_device_name(i)))\n",
    "    print('current gpu id:{}'.format(torch.cuda.current_device()))"
   ]
  },
  {
   "cell_type": "code",
   "execution_count": 34,
   "metadata": {},
   "outputs": [
    {
     "data": {
      "text/plain": [
       "device(type='cpu')"
      ]
     },
     "execution_count": 34,
     "metadata": {},
     "output_type": "execute_result"
    }
   ],
   "source": [
    "torch.device('cpu')"
   ]
  },
  {
   "cell_type": "code",
   "execution_count": 35,
   "metadata": {},
   "outputs": [
    {
     "data": {
      "text/plain": [
       "device(type='cuda')"
      ]
     },
     "execution_count": 35,
     "metadata": {},
     "output_type": "execute_result"
    }
   ],
   "source": [
    "torch.device('cuda')"
   ]
  },
  {
   "cell_type": "code",
   "execution_count": 36,
   "metadata": {},
   "outputs": [
    {
     "data": {
      "text/plain": [
       "device(type='cuda', index=0)"
      ]
     },
     "execution_count": 36,
     "metadata": {},
     "output_type": "execute_result"
    }
   ],
   "source": [
    "torch.device('cuda:0')"
   ]
  },
  {
   "cell_type": "code",
   "execution_count": 37,
   "metadata": {},
   "outputs": [
    {
     "data": {
      "text/plain": [
       "device(type='cuda', index=1)"
      ]
     },
     "execution_count": 37,
     "metadata": {},
     "output_type": "execute_result"
    }
   ],
   "source": [
    "torch.device('cuda',1)"
   ]
  },
  {
   "cell_type": "code",
   "execution_count": 38,
   "metadata": {},
   "outputs": [
    {
     "data": {
      "text/plain": [
       "device(type='cuda', index=2)"
      ]
     },
     "execution_count": 38,
     "metadata": {},
     "output_type": "execute_result"
    }
   ],
   "source": [
    "torch.device('cuda',2)"
   ]
  },
  {
   "cell_type": "markdown",
   "metadata": {},
   "source": [
    "#### gpu和cpu之间切换\n",
    "\n",
    "cpu 和 gpu之间的tensor属于不同的类型，不能直接相加\n",
    "\n",
    "gpu init比较浪费时间"
   ]
  },
  {
   "cell_type": "code",
   "execution_count": 39,
   "metadata": {},
   "outputs": [
    {
     "name": "stdout",
     "output_type": "stream",
     "text": [
      "x tensor([[ 0.3900, -0.9608,  3.0336,  0.2126,  1.6592],\n",
      "        [ 0.4656,  0.0935, -1.4014,  1.5755, -0.2005],\n",
      "        [-1.1434, -0.2407, -1.3920,  1.0717, -0.1767],\n",
      "        [ 0.3178, -0.9094,  1.5819, -1.2264, -1.5235]])\n",
      "y tensor([[1., 1., 1., 1., 1.],\n",
      "        [1., 1., 1., 1., 1.],\n",
      "        [1., 1., 1., 1., 1.],\n",
      "        [1., 1., 1., 1., 1.]], device='cuda:0')\n",
      "init gpu 3.0354361534118652\n",
      "x from cpu to gpu 0.00027632713317871094\n",
      "tensor([[ 1.3900,  0.0392,  4.0336,  1.2126,  2.6592],\n",
      "        [ 1.4656,  1.0935, -0.4014,  2.5755,  0.7995],\n",
      "        [-0.1434,  0.7593, -0.3920,  2.0717,  0.8233],\n",
      "        [ 1.3178,  0.0906,  2.5819, -0.2264, -0.5235]], device='cuda:0')\n",
      "z from gpu to cpu 0.00014901161193847656\n",
      "tensor([[ 1.3900,  0.0392,  4.0336,  1.2126,  2.6592],\n",
      "        [ 1.4656,  1.0935, -0.4014,  2.5755,  0.7995],\n",
      "        [-0.1434,  0.7593, -0.3920,  2.0717,  0.8233],\n",
      "        [ 1.3178,  0.0906,  2.5819, -0.2264, -0.5235]], device='cuda:0')\n"
     ]
    },
    {
     "name": "stderr",
     "output_type": "stream",
     "text": [
      "Traceback (most recent call last):\n",
      "  File \"<ipython-input-39-ffaa5584cc42>\", line 31, in <module>\n",
      "    res = x + a\n",
      "RuntimeError: expected backend CUDA and dtype Float but got backend CPU and dtype Float\n"
     ]
    }
   ],
   "source": [
    "\n",
    "if torch.cuda.is_available():\n",
    "    start_time = time.time()\n",
    "    cpu = torch.device('cpu')\n",
    "    gpu = torch.device('cuda')\n",
    "    x = torch.randn(4,5,dtype=torch.float)\n",
    "    y = torch.ones_like(x, device=gpu)\n",
    "    a  = torch.randn(4,5,dtype=torch.float)\n",
    "    print('x',x)\n",
    "    print('y',y)\n",
    "    end_time = time.time()\n",
    "    print('init gpu', end_time - start_time)\n",
    "    \n",
    "    start_time = time.time()\n",
    "    x = x.to(gpu)\n",
    "    end_time = time.time()\n",
    "    print('x from cpu to gpu', end_time - start_time)\n",
    "    \n",
    "    z = x + y   \n",
    "    print(z)\n",
    "    \n",
    "    start_time = time.time()\n",
    "    z.to(\"cpu\",torch.double)\n",
    "    end_time = time.time()\n",
    "    print('z from gpu to cpu', end_time - start_time)\n",
    "    print(z)\n",
    "    \n",
    "    # 尝试 cpu + gpu\n",
    "    try:\n",
    "        start_time = time.time()\n",
    "        res = x + a\n",
    "        end_time = time.time()\n",
    "        print(x)\n",
    "        print('add, gpu + cpu', end_time - start_time)\n",
    "    except Exception as e:\n",
    "        traceback.print_exc()\n"
   ]
  }
 ],
 "metadata": {
  "kernelspec": {
   "display_name": "Python 3",
   "language": "python",
   "name": "python3"
  },
  "language_info": {
   "codemirror_mode": {
    "name": "ipython",
    "version": 3
   },
   "file_extension": ".py",
   "mimetype": "text/x-python",
   "name": "python",
   "nbconvert_exporter": "python",
   "pygments_lexer": "ipython3",
   "version": "3.6.8"
  }
 },
 "nbformat": 4,
 "nbformat_minor": 2
}
